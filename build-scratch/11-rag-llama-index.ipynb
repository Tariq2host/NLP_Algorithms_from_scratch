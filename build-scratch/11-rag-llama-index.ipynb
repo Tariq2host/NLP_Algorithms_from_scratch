{
 "cells": [
  {
   "cell_type": "markdown",
   "metadata": {},
   "source": [
    "https://www.deeplearning.ai/short-courses/building-agentic-rag-with-llamaindex/\n",
    "https://www.deeplearning.ai/short-courses/vector-databases-embeddings-applications/"
   ]
  }
 ],
 "metadata": {
  "language_info": {
   "name": "python"
  }
 },
 "nbformat": 4,
 "nbformat_minor": 2
}
