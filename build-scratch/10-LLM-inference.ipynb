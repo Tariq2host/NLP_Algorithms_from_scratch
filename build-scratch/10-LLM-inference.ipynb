{
 "cells": [
  {
   "cell_type": "markdown",
   "metadata": {},
   "source": [
    " What does the temperature in softmax control? What value would you set?\n",
    "\n",
    "88. Explain types of sampling in generation? top-k, top-p, nucleus sampling?\n",
    "\n",
    "89. What is the complexity of beam search, and how does it work?\n",
    "\n",
    "90. What is sentence embedding? What are the ways you can obtain it?"
   ]
  },
  {
   "cell_type": "code",
   "execution_count": null,
   "metadata": {
    "vscode": {
     "languageId": "plaintext"
    }
   },
   "outputs": [],
   "source": []
  }
 ],
 "metadata": {
  "language_info": {
   "name": "python"
  }
 },
 "nbformat": 4,
 "nbformat_minor": 2
}
