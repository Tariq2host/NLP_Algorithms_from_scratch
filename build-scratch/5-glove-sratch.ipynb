{
 "cells": [
  {
   "cell_type": "markdown",
   "metadata": {},
   "source": [
    "Voici un résumé du processus de **GloVe** avec les formules essentielles :\n",
    "\n",
    "1. **Construire la matrice de co-occurrence** :\n",
    "   - On construit une matrice \\( X \\), où chaque élément \\( $X_{ij}$ \\) représente le nombre de fois que le mot \\( i \\) apparaît dans le contexte du mot \\( j \\).\n",
    "   - La matrice de co-occurrence est basée sur les fenêtres de contexte définies autour des mots cibles dans le corpus.\n",
    "\n",
    "2. **Appliquer la fonction de coût** :\n",
    "   - GloVe cherche à factoriser cette matrice en deux matrices de vecteurs \\( W \\) et \\( W' \\) (pour les mots et leurs contextes respectivement) afin que leur produit scalaire approchât \\( $\\log(X_{ij})$ \\).\n",
    "   - La fonction de coût de GloVe est la suivante :\n",
    "\n",
    "   \\[$\n",
    "   J = \\sum_{i,j} f(X_{ij}) \\left( \\mathbf{w_i}^\\top \\mathbf{w_j'} - \\log(X_{ij}) \\right)^2\n",
    "   $\\]\n",
    "\n",
    "   Où :\n",
    "   - \\( $\\mathbf{w_i}$ \\) et \\( $\\mathbf{w_j'}$ \\) sont les vecteurs d'embedding pour les mots \\( i \\) et \\( j \\).\n",
    "   - \\( $X_{ij}$ \\) est le nombre de co-occurrences entre \\( i \\) et \\( j \\).\n",
    "   - \\( $f(X_{ij})$ \\) est une fonction de pondération qui réduit l'impact des co-occurrences fréquentes, définie comme :\n",
    "\n",
    "   \\[$\n",
    "   f(X_{ij}) = \\left( \\frac{X_{ij}}{X_{\\text{max}}} \\right)^\\alpha \\quad \\text{si} \\quad X_{ij} < X_{\\text{max}}\n",
    "   $\\]\n",
    "\n",
    "3. **Optimisation des vecteurs** :\n",
    "   - On applique une méthode d'optimisation (comme la descente de gradient) pour ajuster les vecteurs \\( $\\mathbf{w_i}$ \\) et \\( $\\mathbf{w_j'}$ \\) afin de minimiser la fonction de coût.\n",
    "\n",
    "4. **Obtenir les embeddings** :\n",
    "   - Une fois l'optimisation terminée, les vecteurs \\( $\\mathbf{w_i}$ \\) représentent les embeddings des mots, capturant les relations sémantiques basées sur les co-occurrences globales dans le corpus.\n",
    "\n",
    "**En résumé avec les formules** :\n",
    "- La fonction de coût est optimisée pour minimiser l'écart entre le produit scalaire des vecteurs des mots et le logarithme des co-occurrences.\n",
    "- L'optimisation produit des embeddings qui représentent les mots dans un espace vectoriel dense."
   ]
  },
  {
   "cell_type": "code",
   "execution_count": 1,
   "metadata": {},
   "outputs": [
    {
     "name": "stdout",
     "output_type": "stream",
     "text": [
      "[==================================================] 100.0% 376.1/376.1MB downloaded\n"
     ]
    },
    {
     "data": {
      "text/plain": [
       "[('loves', 0.6420262455940247),\n",
       " ('passion', 0.6261469125747681),\n",
       " ('loved', 0.595270574092865),\n",
       " ('romantic', 0.5921086072921753),\n",
       " ('lovers', 0.5904366970062256)]"
      ]
     },
     "execution_count": 1,
     "metadata": {},
     "output_type": "execute_result"
    }
   ],
   "source": [
    "import gensim\n",
    "from sklearn.manifold import TSNE\n",
    "import gensim.downloader as api\n",
    "\n",
    "\n",
    "my_vocab = ['apple','orange','shimla','banana','maruti','mumbai','china','india','husband'\n",
    "            ,'wife','brother','sister','red','yellow','computer','mobile','pear','guava']\n",
    "\n",
    "glove_model = api.load('glove-wiki-gigaword-300')\n",
    "\n",
    "glove_model.most_similar('love',topn=5)\n"
   ]
  },
  {
   "cell_type": "code",
   "execution_count": 2,
   "metadata": {},
   "outputs": [
    {
     "data": {
      "text/plain": [
       "[('wife', 0.7732622027397156)]"
      ]
     },
     "execution_count": 2,
     "metadata": {},
     "output_type": "execute_result"
    }
   ],
   "source": [
    "glove_model.most_similar(positive= ['woman', 'husband'], negative=['man'],topn=1)"
   ]
  },
  {
   "cell_type": "code",
   "execution_count": 3,
   "metadata": {},
   "outputs": [],
   "source": [
    "words = []\n",
    "vectors = []\n",
    "\n",
    "\n",
    "for word in my_vocab:\n",
    "    words.append(word)\n",
    "    vectors.append(glove_model[word])"
   ]
  },
  {
   "cell_type": "code",
   "execution_count": 4,
   "metadata": {},
   "outputs": [],
   "source": [
    "dicts = zip(words,vectors)"
   ]
  },
  {
   "cell_type": "code",
   "execution_count": 6,
   "metadata": {},
   "outputs": [
    {
     "data": {
      "text/plain": [
       "array([[ 19.215422 ,  34.85211  ],\n",
       "       [ 47.77074  ,  17.663597 ],\n",
       "       [-11.100541 , -30.177464 ],\n",
       "       [ 24.490843 ,  47.58159  ],\n",
       "       [  4.7730684, -30.616554 ],\n",
       "       [ -6.2003508, -24.605118 ],\n",
       "       [  2.8754706, -16.10858  ],\n",
       "       [ -0.5751663, -22.475227 ],\n",
       "       [-29.527737 ,  16.145689 ],\n",
       "       [-24.952433 ,  12.792942 ],\n",
       "       [-34.736103 ,  10.42366  ],\n",
       "       [-27.149767 ,   5.881508 ],\n",
       "       [ 49.031746 ,   7.0978827],\n",
       "       [ 51.09459  ,  12.178113 ],\n",
       "       [ 15.246805 ,  29.65535  ],\n",
       "       [ 12.180234 ,  24.17477  ],\n",
       "       [ 33.068592 ,  43.2668   ],\n",
       "       [ 30.139277 ,  49.170925 ]], dtype=float32)"
      ]
     },
     "execution_count": 6,
     "metadata": {},
     "output_type": "execute_result"
    }
   ],
   "source": [
    "import numpy as np\n",
    "from sklearn.manifold import TSNE\n",
    "\n",
    "# Assuming vectors is a list, convert it to a NumPy array\n",
    "vectors = np.array(vectors)\n",
    "\n",
    "dim_model = TSNE(n_components=2, perplexity=3, init='pca', random_state=45)\n",
    "fit_model = dim_model.fit_transform(vectors)\n",
    "\n",
    "fit_model\n"
   ]
  },
  {
   "cell_type": "code",
   "execution_count": 7,
   "metadata": {},
   "outputs": [],
   "source": [
    "x = []\n",
    "y = []\n",
    "\n",
    "for i in fit_model:\n",
    "    x.append(i[0])\n",
    "    y.append(i[1])"
   ]
  },
  {
   "cell_type": "code",
   "execution_count": 8,
   "metadata": {},
   "outputs": [
    {
     "data": {
      "image/png": "[encoded data removed]",
      "text/plain": [
       "<Figure size 800x800 with 1 Axes>"
      ]
     },
     "metadata": {},
     "output_type": "display_data"
    }
   ],
   "source": [
    "plt.figure(figsize=(8,8))\n",
    "\n",
    "for i in range(len(x)):\n",
    "    plt.scatter(x[i],y[i])\n",
    "    plt.annotate(words[i], xy=(x[i],y[i]),\n",
    "                 xytext=(2, 2),\n",
    "                 textcoords='offset points',\n",
    "                 ha='right',\n",
    "                 va='bottom'\n",
    "                )\n"
   ]
  }
 ],
 "metadata": {
  "kernelspec": {
   "display_name": ".venv",
   "language": "python",
   "name": "python3"
  },
  "language_info": {
   "codemirror_mode": {
    "name": "ipython",
    "version": 3
   },
   "file_extension": ".py",
   "mimetype": "text/x-python",
   "name": "python",
   "nbconvert_exporter": "python",
   "pygments_lexer": "ipython3",
   "version": "3.12.6"
  }
 },
 "nbformat": 4,
 "nbformat_minor": 2
}
