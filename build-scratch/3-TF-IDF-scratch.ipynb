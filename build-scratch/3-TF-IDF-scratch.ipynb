{
 "cells": [
  {
   "cell_type": "markdown",
   "metadata": {},
   "source": [
    "### TF-IDF from scratch and some Machine learning models\n",
    "\n",
    "1. Write TF-IDF from scratch.\n",
    "\n",
    "2. What is normalization in TF-IDF ?\n",
    "\n",
    "3. Why do you need to know about TF-IDF in our time, and how can you use it in complex models?\n",
    "\n",
    "4. Explain how Naive Bayes works. What can you use it for?\n",
    "\n",
    "5. How can SVM be prone to overfitting?\n",
    "\n",
    "6. Explain possible methods for text preprocessing ( lemmatization and stemming ). What algorithms do you know for this, and in what cases would you use them?\n",
    "\n",
    "7. What metrics for text similarity do you know?\n",
    "\n",
    "8. Explain the difference between cosine similarity and cosine distance. Which of these values can be negative? How would you use them?"
   ]
  }
 ],
 "metadata": {
  "language_info": {
   "name": "python"
  }
 },
 "nbformat": 4,
 "nbformat_minor": 2
}
